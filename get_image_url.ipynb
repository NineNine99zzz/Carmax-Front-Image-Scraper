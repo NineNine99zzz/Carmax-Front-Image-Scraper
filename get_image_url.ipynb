{
 "cells": [
  {
   "cell_type": "code",
   "execution_count": 13,
   "metadata": {},
   "outputs": [
    {
     "name": "stdout",
     "output_type": "stream",
     "text": [
      "1185\n"
     ]
    }
   ],
   "source": [
    "# -*- coding: utf-8 -*-\n",
    "# extract car information from carmax webpage\n",
    "\n",
    "from bs4 import BeautifulSoup\n",
    "with open(r'D:\\project_data\\carmax_1000_raw\\carmax_webpage.html', 'r', encoding='utf-8') as f:\n",
    "    html_content = f.read()\n",
    "\n",
    "soup = BeautifulSoup(html_content, 'html.parser')\n",
    "\n",
    "cars = soup.find_all('a', class_='scct--make-model-info-link make-model-link')\n",
    "\n",
    "print(len(cars))\n"
   ]
  },
  {
   "cell_type": "code",
   "execution_count": 2,
   "metadata": {},
   "outputs": [],
   "source": [
    "import pandas as pd\n",
    "\n",
    "df = pd.DataFrame(columns=['year', 'make', 'model', 'url'])\n",
    "\n",
    "based_url = 'https://www.carmax.com'\n",
    "\n",
    "data = []\n",
    "\n",
    "for car in cars:\n",
    "    year = car.find('span', class_='scct--make-model-info--year-make').text[:4]\n",
    "    make = car.find('span', class_='scct--make-model-info--year-make').text[5:]\n",
    "    model = car.find('span', class_='scct--make-model-info--model-trim').text\n",
    "    url = based_url + car['href']\n",
    "    \n",
    "    data.append({'year': year, 'make': make, 'model': model, 'url': url})\n",
    "\n",
    "df = pd.DataFrame(data)\n",
    "\n",
    "#df.to_csv(r'D:\\project_data\\carmax\\carmax_webpage.csv', index=False)\n"
   ]
  },
  {
   "cell_type": "code",
   "execution_count": 4,
   "metadata": {},
   "outputs": [
    {
     "data": {
      "text/html": [
       "<div>\n",
       "<style scoped>\n",
       "    .dataframe tbody tr th:only-of-type {\n",
       "        vertical-align: middle;\n",
       "    }\n",
       "\n",
       "    .dataframe tbody tr th {\n",
       "        vertical-align: top;\n",
       "    }\n",
       "\n",
       "    .dataframe thead th {\n",
       "        text-align: right;\n",
       "    }\n",
       "</style>\n",
       "<table border=\"1\" class=\"dataframe\">\n",
       "  <thead>\n",
       "    <tr style=\"text-align: right;\">\n",
       "      <th></th>\n",
       "      <th>year</th>\n",
       "      <th>make</th>\n",
       "      <th>model</th>\n",
       "      <th>url</th>\n",
       "    </tr>\n",
       "  </thead>\n",
       "  <tbody>\n",
       "    <tr>\n",
       "      <th>1180</th>\n",
       "      <td>2018</td>\n",
       "      <td>Dodge</td>\n",
       "      <td>Journey SE</td>\n",
       "      <td>https://www.carmax.com/car/25756684</td>\n",
       "    </tr>\n",
       "    <tr>\n",
       "      <th>1181</th>\n",
       "      <td>2021</td>\n",
       "      <td>Chevrolet</td>\n",
       "      <td>Colorado LT</td>\n",
       "      <td>https://www.carmax.com/car/26192206</td>\n",
       "    </tr>\n",
       "    <tr>\n",
       "      <th>1182</th>\n",
       "      <td>2021</td>\n",
       "      <td>Ram</td>\n",
       "      <td>1500 Classic Warlock</td>\n",
       "      <td>https://www.carmax.com/car/26465553</td>\n",
       "    </tr>\n",
       "    <tr>\n",
       "      <th>1183</th>\n",
       "      <td>2021</td>\n",
       "      <td>Ram</td>\n",
       "      <td>1500 Classic Warlock</td>\n",
       "      <td>https://www.carmax.com/car/26192158</td>\n",
       "    </tr>\n",
       "    <tr>\n",
       "      <th>1184</th>\n",
       "      <td>2022</td>\n",
       "      <td>Kia</td>\n",
       "      <td>Sportage LX</td>\n",
       "      <td>https://www.carmax.com/car/26332774</td>\n",
       "    </tr>\n",
       "  </tbody>\n",
       "</table>\n",
       "</div>"
      ],
      "text/plain": [
       "      year       make                 model  \\\n",
       "1180  2018      Dodge            Journey SE   \n",
       "1181  2021  Chevrolet           Colorado LT   \n",
       "1182  2021        Ram  1500 Classic Warlock   \n",
       "1183  2021        Ram  1500 Classic Warlock   \n",
       "1184  2022        Kia           Sportage LX   \n",
       "\n",
       "                                      url  \n",
       "1180  https://www.carmax.com/car/25756684  \n",
       "1181  https://www.carmax.com/car/26192206  \n",
       "1182  https://www.carmax.com/car/26465553  \n",
       "1183  https://www.carmax.com/car/26192158  \n",
       "1184  https://www.carmax.com/car/26332774  "
      ]
     },
     "execution_count": 4,
     "metadata": {},
     "output_type": "execute_result"
    }
   ],
   "source": [
    "df.tail()"
   ]
  },
  {
   "cell_type": "code",
   "execution_count": 6,
   "metadata": {},
   "outputs": [
    {
     "name": "stdout",
     "output_type": "stream",
     "text": [
      "   year     make           model                                  url  \\\n",
      "0  2015  Hyundai       Sonata SE  https://www.carmax.com/car/26142882   \n",
      "1  2014     Ford        Focus SE  https://www.carmax.com/car/26143198   \n",
      "2  2014    Mazda  Mazda6 I Sport  https://www.carmax.com/car/26441276   \n",
      "3  2016      Kia           Soul   https://www.carmax.com/car/26046685   \n",
      "4  2022   Nissan       Sentra SR  https://www.carmax.com/car/25922634   \n",
      "\n",
      "                                           image_url  \n",
      "0  https://img2.carmax.com/assets/26142882/image/...  \n",
      "1  https://img2.carmax.com/assets/26143198/image/...  \n",
      "2  https://img2.carmax.com/assets/26441276/image/...  \n",
      "3  https://img2.carmax.com/assets/26046685/image/...  \n",
      "4  https://img2.carmax.com/assets/25922634/image/...  \n"
     ]
    }
   ],
   "source": [
    "# Based on the url of car, we can construct the front image url\n",
    "\n",
    "urls = df['url'].tolist()\n",
    "\n",
    "id = []\n",
    "for url in urls:\n",
    "    id.append(url[-8:])\n",
    "\n",
    "url_list = []\n",
    "\n",
    "# https://img2.carmax.com/assets/26277574/image/5.jpg?width=400&height=300 \n",
    "# https://img2.carmax.com/assets/26472995/image/5.jpg?width=400&height=300\n",
    "\n",
    "# 5 is the front image of the car. Change the width and height to get different size of image\n",
    "url_templete = 'https://img2.carmax.com/assets/{}/image/5.jpg?width=1600&height=1200'  \n",
    "\n",
    "for i in id:\n",
    "    url_list.append(url_templete.format(i))\n",
    "    #print(url_templete.format(i))\n",
    "\n",
    "df['image_url'] = url_list\n",
    "print(df.head())\n",
    "\n",
    "df.to_csv(r'D:\\project_data\\carmax_1000_raw\\carmax_sample_img.csv', index=False)\n",
    "\n"
   ]
  },
  {
   "cell_type": "code",
   "execution_count": 12,
   "metadata": {},
   "outputs": [
    {
     "name": "stdout",
     "output_type": "stream",
     "text": [
      "https://img2.carmax.com/assets/26142882/image/5.jpg?width=1600&height=1200\n",
      "https://img2.carmax.com/assets/26143198/image/5.jpg?width=1600&height=1200\n",
      "https://img2.carmax.com/assets/26441276/image/5.jpg?width=1600&height=1200\n",
      "https://img2.carmax.com/assets/26046685/image/5.jpg?width=1600&height=1200\n",
      "https://img2.carmax.com/assets/25922634/image/5.jpg?width=1600&height=1200\n",
      "https://img2.carmax.com/assets/26191273/image/5.jpg?width=1600&height=1200\n",
      "https://img2.carmax.com/assets/26250736/image/5.jpg?width=1600&height=1200\n",
      "https://img2.carmax.com/assets/26440378/image/5.jpg?width=1600&height=1200\n",
      "https://img2.carmax.com/assets/26441051/image/5.jpg?width=1600&height=1200\n",
      "https://img2.carmax.com/assets/26440797/image/5.jpg?width=1600&height=1200\n",
      "https://img2.carmax.com/assets/26283463/image/5.jpg?width=1600&height=1200\n"
     ]
    }
   ],
   "source": [
    "for i in df['image_url'][:11]:\n",
    "    print(i)"
   ]
  }
 ],
 "metadata": {
  "kernelspec": {
   "display_name": "Python 3",
   "language": "python",
   "name": "python3"
  },
  "language_info": {
   "codemirror_mode": {
    "name": "ipython",
    "version": 3
   },
   "file_extension": ".py",
   "mimetype": "text/x-python",
   "name": "python",
   "nbconvert_exporter": "python",
   "pygments_lexer": "ipython3",
   "version": "3.12.3"
  }
 },
 "nbformat": 4,
 "nbformat_minor": 2
}
